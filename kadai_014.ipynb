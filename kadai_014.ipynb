{
 "cells": [
  {
   "cell_type": "code",
   "execution_count": 1,
   "id": "ec515f56-c6ec-424d-a619-48cdebe9e90d",
   "metadata": {},
   "outputs": [
    {
     "name": "stdout",
     "output_type": "stream",
     "text": [
      "330.0\n"
     ]
    }
   ],
   "source": [
    "tax = 1.1\n",
    "\n",
    "def total():\n",
    "    price1 = 100\n",
    "    price2 = 200\n",
    "    return price1 + price2\n",
    "\n",
    "print (total() * tax)"
   ]
  },
  {
   "cell_type": "code",
   "execution_count": null,
   "id": "e9d137d2-4fd2-4f54-b10e-a96bfedaebb1",
   "metadata": {},
   "outputs": [],
   "source": []
  }
 ],
 "metadata": {
  "kernelspec": {
   "display_name": "Python 3 (ipykernel)",
   "language": "python",
   "name": "python3"
  },
  "language_info": {
   "codemirror_mode": {
    "name": "ipython",
    "version": 3
   },
   "file_extension": ".py",
   "mimetype": "text/x-python",
   "name": "python",
   "nbconvert_exporter": "python",
   "pygments_lexer": "ipython3",
   "version": "3.11.5"
  }
 },
 "nbformat": 4,
 "nbformat_minor": 5
}
