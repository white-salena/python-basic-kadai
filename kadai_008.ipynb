{
 "cells": [
  {
   "cell_type": "code",
   "execution_count": 1,
   "id": "896b12c6-475f-4919-a7c9-95f6a056a3e3",
   "metadata": {},
   "outputs": [
    {
     "name": "stdout",
     "output_type": "stream",
     "text": [
      "12\n",
      "Fizz\n"
     ]
    }
   ],
   "source": [
    "import random\n",
    "\n",
    "var = random.randint(0, 50)\n",
    "\n",
    "if var % 3 == 0 and var % 5 == 0:\n",
    "    print(var)\n",
    "    print(\"FizzBuzz\")\n",
    "elif var % 3 == 0:\n",
    "    print(var)\n",
    "    print(\"Fizz\")\n",
    "elif var % 5 == 0:\n",
    "    print(var)\n",
    "    print(\"Buzz\")\n",
    "else:\n",
    "    print(var)"
   ]
  },
  {
   "cell_type": "code",
   "execution_count": null,
   "id": "7e885fc7-6908-4c18-9f87-b67c2b5f02ae",
   "metadata": {},
   "outputs": [],
   "source": []
  }
 ],
 "metadata": {
  "kernelspec": {
   "display_name": "Python 3 (ipykernel)",
   "language": "python",
   "name": "python3"
  },
  "language_info": {
   "codemirror_mode": {
    "name": "ipython",
    "version": 3
   },
   "file_extension": ".py",
   "mimetype": "text/x-python",
   "name": "python",
   "nbconvert_exporter": "python",
   "pygments_lexer": "ipython3",
   "version": "3.11.5"
  }
 },
 "nbformat": 4,
 "nbformat_minor": 5
}
