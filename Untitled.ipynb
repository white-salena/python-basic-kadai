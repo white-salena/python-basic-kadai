{
 "cells": [
  {
   "cell_type": "code",
   "execution_count": 1,
   "id": "9c248b94-06ae-4456-bce3-9352e0602e2c",
   "metadata": {},
   "outputs": [
    {
     "name": "stdout",
     "output_type": "stream",
     "text": [
      "今日の天気は晴れ\n",
      "今日の天気は曇り\n"
     ]
    }
   ],
   "source": [
    "print(\"今日の天気は\" + \"晴れ\")\n",
    "print(\"今日の天気は\" \"曇り\")"
   ]
  },
  {
   "cell_type": "code",
   "execution_count": 2,
   "id": "32f02b26-cb7f-4880-aaf9-087a8c4aa5b1",
   "metadata": {},
   "outputs": [
    {
     "name": "stdout",
     "output_type": "stream",
     "text": [
      "降水確率50％\n"
     ]
    }
   ],
   "source": [
    "print(\"降水確率\" + str(50) + \"％\" )\n"
   ]
  },
  {
   "cell_type": "code",
   "execution_count": 3,
   "id": "24c9f103-e2e9-47cf-a848-0e8de301761c",
   "metadata": {},
   "outputs": [
    {
     "name": "stdout",
     "output_type": "stream",
     "text": [
      "晴れ晴れ晴れ晴れ晴れ\n",
      "晴れ晴れ晴れ晴れ晴れ\n"
     ]
    }
   ],
   "source": [
    "print(\"晴れ\" * 5)\n",
    "print(\"晴れ\" + \"晴れ\" + \"晴れ\" + \"晴れ\" + \"晴れ\")"
   ]
  },
  {
   "cell_type": "code",
   "execution_count": 4,
   "id": "112a9621-0955-4d93-8ad0-e8af4ffa0e1d",
   "metadata": {},
   "outputs": [
    {
     "name": "stdout",
     "output_type": "stream",
     "text": [
      "侍太郎\n"
     ]
    }
   ],
   "source": [
    "user_name = \"侍太郎\"\n",
    "print(user_name)"
   ]
  },
  {
   "cell_type": "code",
   "execution_count": 5,
   "id": "56243bfd-c224-4a13-9200-f3a5204d896d",
   "metadata": {},
   "outputs": [
    {
     "name": "stdout",
     "output_type": "stream",
     "text": [
      "侍太郎\n",
      "侍花子\n"
     ]
    }
   ],
   "source": [
    "user_name = \"侍太郎\"\n",
    "print(user_name)\n",
    "\n",
    "user_name = \"侍花子\"\n",
    "print(user_name)"
   ]
  },
  {
   "cell_type": "code",
   "execution_count": 6,
   "id": "25f0fd1c-4dd8-4ed3-8301-40e7621d9fbb",
   "metadata": {},
   "outputs": [
    {
     "name": "stdout",
     "output_type": "stream",
     "text": [
      "7.5\n",
      "侍太郎\n"
     ]
    }
   ],
   "source": [
    "# 整数型と浮動小数点型の足し算\n",
    "number1 = 5\n",
    "number2 = 2.5\n",
    "print(number1 + number2)\n",
    "\n",
    "# 文字列型と文字列型の連結\n",
    "last_name  = \"侍\"\n",
    "first_name = \"太郎\"\n",
    "print(last_name + first_name)\n"
   ]
  },
  {
   "cell_type": "code",
   "execution_count": 7,
   "id": "feb7a9fb-b68a-43a1-a336-a98acd39e0ad",
   "metadata": {},
   "outputs": [
    {
     "name": "stdout",
     "output_type": "stream",
     "text": [
      "私の名前は侍太郎です。妹の名前は花子です。\n"
     ]
    }
   ],
   "source": [
    "last_name   = \"侍\"\n",
    "first_name  = \"太郎\"\n",
    "sister_name = \"花子\"\n",
    "\n",
    "# 3つの変数を文字列内に埋め込んで表示\n",
    "print(f\"私の名前は{last_name}{first_name}です。妹の名前は{sister_name}です。\")"
   ]
  },
  {
   "cell_type": "code",
   "execution_count": 10,
   "id": "892f89ed-4296-4fa0-8d11-bc7144846b34",
   "metadata": {},
   "outputs": [
    {
     "name": "stdout",
     "output_type": "stream",
     "text": [
      "150㎠\n"
     ]
    }
   ],
   "source": [
    "top_side=10\n",
    "bottom_side=20\n",
    "height=5\n",
    "result=(top_side + bottom_side) * height\n",
    "\n",
    "print(str(result) + \"㎠\")"
   ]
  },
  {
   "cell_type": "code",
   "execution_count": 1,
   "id": "01c79236-4f11-4662-bc11-94244ea98e7a",
   "metadata": {},
   "outputs": [
    {
     "name": "stdout",
     "output_type": "stream",
     "text": [
      "侍一郎\n"
     ]
    }
   ],
   "source": [
    "user_names = [\"侍太郎\", \"侍一郎\", \"侍二郎\", \"侍三郎\", \"侍四郎\"]\n",
    "\n",
    "# 2番目の要素である「侍一郎」という文字列だけを取り出して表示する\n",
    "print(user_names[1])"
   ]
  },
  {
   "cell_type": "code",
   "execution_count": 8,
   "id": "8b5a1704-10a4-49a9-acad-dc7b49fda71b",
   "metadata": {},
   "outputs": [
    {
     "name": "stdout",
     "output_type": "stream",
     "text": [
      "['侍太郎', '侍一郎', '侍二郎', '侍三郎', '侍四郎']\n"
     ]
    }
   ],
   "source": [
    "user_names = [\"侍太郎\", \"侍一郎\", \"侍二郎\", \"侍三郎\", \"侍四郎\"]\n",
    "\n",
    "print(user_names)"
   ]
  },
  {
   "cell_type": "code",
   "execution_count": 3,
   "id": "e3b80e64-4b9e-4ed4-a5c9-7579dc826ec1",
   "metadata": {},
   "outputs": [
    {
     "name": "stdout",
     "output_type": "stream",
     "text": [
      "['侍太郎', '侍一郎', '侍二郎', '侍三郎', '侍四郎', '侍五郎']\n",
      "['侍太郎', '侍一郎', '侍三郎', '侍四郎', '侍五郎']\n"
     ]
    }
   ],
   "source": [
    "user_names = [\"侍太郎\", \"侍一郎\", \"侍二郎\", \"侍三郎\", \"侍四郎\"]\n",
    "\n",
    "# 6番目の要素を追加する\n",
    "user_names.append(\"侍五郎\")\n",
    "print(user_names)\n",
    "\n",
    "# 3番目の要素を削除する\n",
    "user_names.pop(2) # 0始まりのため、3番目のインデックスは2\n",
    "print(user_names)"
   ]
  },
  {
   "cell_type": "code",
   "execution_count": 4,
   "id": "1cf99b04-7da7-4589-9be7-c855a5bcbab1",
   "metadata": {},
   "outputs": [
    {
     "name": "stdout",
     "output_type": "stream",
     "text": [
      "侍一郎\n",
      "['侍太郎', '侍花子', '侍二郎', '侍三郎', '侍四郎']\n",
      "['侍太郎', '侍花子', '侍二郎', '侍三郎', '侍四郎', '侍五郎']\n",
      "['侍太郎', '侍花子', '侍三郎', '侍四郎', '侍五郎']\n"
     ]
    }
   ],
   "source": [
    "user_names = [\"侍太郎\", \"侍一郎\", \"侍二郎\", \"侍三郎\", \"侍四郎\"]\n",
    "\n",
    "print(user_names[1]) # 2番目の要素だけを表示\n",
    "\n",
    "user_names[1] = \"侍花子\" # 2番目の要素を更新\n",
    "print(user_names)\n",
    "\n",
    "user_names.append(\"侍五郎\") # 6番目の要素を追加\n",
    "print(user_names)\n",
    "\n",
    "user_names.pop(2) # 3番目の要素を削除（0始まりのため2を指定）\n",
    "print(user_names)"
   ]
  },
  {
   "cell_type": "code",
   "execution_count": 5,
   "id": "0f887162-8a18-4e0b-8008-5e00f693357b",
   "metadata": {},
   "outputs": [
    {
     "name": "stdout",
     "output_type": "stream",
     "text": [
      "イギリス\n"
     ]
    }
   ],
   "source": [
    "country_names = (\"日本\", \"アメリカ\", \"イギリス\", \"フランス\" )\n",
    "\n",
    "# 3番目の要素である「イギリス」という文字列だけを取り出す\n",
    "print(country_names[2])"
   ]
  },
  {
   "cell_type": "code",
   "execution_count": 7,
   "id": "66750cc5-9f1c-480f-8162-b9f4c027c52a",
   "metadata": {},
   "outputs": [
    {
     "name": "stdout",
     "output_type": "stream",
     "text": [
      "('日本', 'アメリカ', 'イギリス', 'フランス')\n"
     ]
    }
   ],
   "source": [
    "country_names = (\"日本\", \"アメリカ\", \"イギリス\", \"フランス\" )\n",
    "\n",
    "print(country_names)"
   ]
  },
  {
   "cell_type": "code",
   "execution_count": 9,
   "id": "0433b219-f746-4688-a067-1f359e1504c9",
   "metadata": {},
   "outputs": [
    {
     "name": "stdout",
     "output_type": "stream",
     "text": [
      "イギリス\n",
      "('日本', 'アメリカ', 'イギリス', 'フランス')\n"
     ]
    }
   ],
   "source": [
    "country_names = (\"日本\", \"アメリカ\", \"イギリス\", \"フランス\" )\n",
    "\n",
    "# 3番目の要素を取り出す\n",
    "print(country_names[2])\n",
    "\n",
    "# すべての要素を取り出す\n",
    "print(country_names)"
   ]
  },
  {
   "cell_type": "code",
   "execution_count": 10,
   "id": "8f1014c1-71ba-4e3c-bd94-e14996d85f28",
   "metadata": {},
   "outputs": [
    {
     "name": "stdout",
     "output_type": "stream",
     "text": [
      "{'アメリカ', 'フランス', '日本', 'イギリス'}\n"
     ]
    }
   ],
   "source": [
    "country_names = {\"アメリカ\", \"イギリス\", \"日本\", \"フランス\"}\n",
    "\n",
    "# セット全体を表示\n",
    "print(country_names)"
   ]
  },
  {
   "cell_type": "code",
   "execution_count": 11,
   "id": "daeb8993-369d-4cfe-b072-9171c9f5ec97",
   "metadata": {},
   "outputs": [
    {
     "name": "stdout",
     "output_type": "stream",
     "text": [
      "{2, 3, 5, 7}\n"
     ]
    }
   ],
   "source": [
    "# 1～10までに含まれる素数のセット（2と5が重複）\n",
    "prime_numbers = {2, 5, 2, 7, 3, 5, 5 }\n",
    "\n",
    "# セット全体を表示\n",
    "print(prime_numbers)"
   ]
  },
  {
   "cell_type": "code",
   "execution_count": 12,
   "id": "fd3ca410-c941-48e9-9054-efb6ede1b144",
   "metadata": {},
   "outputs": [
    {
     "name": "stdout",
     "output_type": "stream",
     "text": [
      "{2, 3, 5, 7}\n"
     ]
    },
    {
     "ename": "TypeError",
     "evalue": "'set' object is not subscriptable",
     "output_type": "error",
     "traceback": [
      "\u001b[1;31m---------------------------------------------------------------------------\u001b[0m",
      "\u001b[1;31mTypeError\u001b[0m                                 Traceback (most recent call last)",
      "Cell \u001b[1;32mIn[12], line 8\u001b[0m\n\u001b[0;32m      5\u001b[0m \u001b[38;5;28mprint\u001b[39m(prime_numbers)\n\u001b[0;32m      7\u001b[0m \u001b[38;5;66;03m# セットの3番目の要素を表示 ⇒ できないためエラー\u001b[39;00m\n\u001b[1;32m----> 8\u001b[0m \u001b[38;5;28mprint\u001b[39m(\u001b[43mprime_numbers\u001b[49m\u001b[43m[\u001b[49m\u001b[38;5;241;43m2\u001b[39;49m\u001b[43m]\u001b[49m)\n",
      "\u001b[1;31mTypeError\u001b[0m: 'set' object is not subscriptable"
     ]
    }
   ],
   "source": [
    "# 1～10までに含まれる素数のセット\n",
    "prime_numbers = {2, 3, 5, 7}\n",
    "\n",
    "# セット全体を表示\n",
    "print(prime_numbers)\n",
    "\n",
    "# セットの3番目の要素を表示 ⇒ できないためエラー\n",
    "print(prime_numbers[2])"
   ]
  },
  {
   "cell_type": "code",
   "execution_count": 13,
   "id": "226b36c4-720f-4f5c-9123-c777be2fe7d5",
   "metadata": {},
   "outputs": [
    {
     "name": "stdout",
     "output_type": "stream",
     "text": [
      "{2, 3, 5, 7}\n",
      "{2, 3, 5, 7, 11}\n",
      "{2, 5, 7, 11}\n"
     ]
    }
   ],
   "source": [
    "# 1～10までに含まれる素数のセット\n",
    "prime_numbers = {2, 3, 5, 7}\n",
    "\n",
    "# セット全体を表示\n",
    "print(prime_numbers)\n",
    "\n",
    "prime_numbers.add(11) # 11をセットに追加\n",
    "print(prime_numbers)\n",
    "\n",
    "prime_numbers.remove(3) # セットから3を削除\n",
    "print(prime_numbers)"
   ]
  },
  {
   "cell_type": "code",
   "execution_count": 14,
   "id": "51e8ff2b-94bf-4aad-9c56-53e8e093b70a",
   "metadata": {},
   "outputs": [
    {
     "name": "stdout",
     "output_type": "stream",
     "text": [
      "{'アメリカ', 'フランス', '日本', 'イギリス'}\n",
      "{'イギリス', 'ドイツ', '日本', 'アメリカ', 'フランス'}\n",
      "{'ドイツ', '日本', 'アメリカ', 'フランス'}\n"
     ]
    }
   ],
   "source": [
    "country_names = {\"アメリカ\", \"イギリス\", \"日本\", \"フランス\"}\n",
    "\n",
    "# セット全体を表示\n",
    "print(country_names)\n",
    "\n",
    "country_names.add(\"ドイツ\") # 「ドイツ」をセットに追加\n",
    "print(country_names)\n",
    "\n",
    "country_names.remove(\"イギリス\") # セットから「イギリス」を削除\n",
    "print(country_names)"
   ]
  },
  {
   "cell_type": "code",
   "execution_count": 15,
   "id": "60da8ff7-fe38-43f6-bcb4-0e527104d5e2",
   "metadata": {},
   "outputs": [
    {
     "name": "stdout",
     "output_type": "stream",
     "text": [
      "120\n"
     ]
    }
   ],
   "source": [
    "stationery_prices = {\"鉛筆\": 70, \"ボールペン\": 120, \"シャープペンシル\": 150, \"消しゴム\": 90}\n",
    "\n",
    "# ボールペンの価格を取り出して表示\n",
    "print(stationery_prices[\"ボールペン\"])"
   ]
  },
  {
   "cell_type": "code",
   "execution_count": 16,
   "id": "8df4a396-c5fc-426c-ae3b-6c010f926598",
   "metadata": {},
   "outputs": [
    {
     "name": "stdout",
     "output_type": "stream",
     "text": [
      "{'鉛筆': 70, 'ボールペン': 120, 'シャープペンシル': 150, '消しゴム': 90}\n"
     ]
    }
   ],
   "source": [
    "stationery_prices = {\"鉛筆\": 70, \"ボールペン\": 120, \"シャープペンシル\": 150, \"消しゴム\": 90}\n",
    "\n",
    "print(stationery_prices)"
   ]
  },
  {
   "cell_type": "code",
   "execution_count": 17,
   "id": "97174c79-2332-4489-a276-40ac410dcdea",
   "metadata": {},
   "outputs": [
    {
     "name": "stdout",
     "output_type": "stream",
     "text": [
      "{1: 'サッカー', 2: 'バドミントン', 3: 'バスケット', 4: '水泳'}\n"
     ]
    }
   ],
   "source": [
    "sports = {1: \"サッカー\", 2: \"野球\", 3: \"バスケット\"}\n",
    "\n",
    "# キー「2」の値を「バドミントン」に書き換える\n",
    "sports[2] = \"バドミントン\"\n",
    "\n",
    "# キー「4」として「水泳」を追加する\n",
    "sports[4] = \"水泳\"\n",
    "\n",
    "# 連想配列全体を取り出して表示\n",
    "print(sports)"
   ]
  },
  {
   "cell_type": "code",
   "execution_count": 18,
   "id": "e23d7275-aa9e-4a06-b754-2033c89bb928",
   "metadata": {},
   "outputs": [
    {
     "name": "stdout",
     "output_type": "stream",
     "text": [
      "{'鉛筆': 70, 'ボールペン': 120, '消しゴム': 90}\n"
     ]
    }
   ],
   "source": [
    "stationery_prices = {\"鉛筆\": 70, \"ボールペン\": 120, \"シャープペンシル\": 150, \"消しゴム\": 90}\n",
    "\n",
    "# 「シャープペンシル」を要素ごと削除\n",
    "stationery_prices.pop(\"シャープペンシル\")\n",
    "\n",
    "# 連想配列全体を取り出して表示\n",
    "print(stationery_prices)"
   ]
  },
  {
   "cell_type": "code",
   "execution_count": 19,
   "id": "3fc79119-0076-4bdc-ac34-51c72afea8b7",
   "metadata": {},
   "outputs": [
    {
     "name": "stdout",
     "output_type": "stream",
     "text": [
      "侍太郎\n",
      "{'name': '侍太郎', 'age': 36, 'gender': '男性'}\n",
      "{'name': '侍太郎', 'age': 37, 'gender': '男性', 'address': '東京都'}\n"
     ]
    }
   ],
   "source": [
    "# 連想配列を作成\n",
    "personal_data = {\"name\": \"侍太郎\", \"age\": 36, \"gender\": \"男性\"}\n",
    "\n",
    "# キー「name」の値を表示\n",
    "print(personal_data[\"name\"])\n",
    "\n",
    "# 連想配列全体を表示\n",
    "print(personal_data)\n",
    "\n",
    "# キー「age」の値を更新\n",
    "personal_data[\"age\"] = 37\n",
    "\n",
    "# 新しく要素（キーと値）を追加\n",
    "personal_data[\"address\"] = \"東京都\"\n",
    "\n",
    "# 連想配列全体を表示\n",
    "print(personal_data)"
   ]
  },
  {
   "cell_type": "code",
   "execution_count": 23,
   "id": "83998550-70d4-4b31-8eaf-5859028f3e4a",
   "metadata": {},
   "outputs": [
    {
     "name": "stdout",
     "output_type": "stream",
     "text": [
      "水曜日は晴れです\n",
      "晴れ\n"
     ]
    }
   ],
   "source": [
    "list=[\"月曜日は晴れです\", \"火曜日は雨です\", \"水曜日は晴れです\", \"木曜日は晴れです\", \"金曜日は曇りです\", \"土曜日は曇りのち雨です\", \"日曜日は雷雨です\"]\n",
    "dictionary={\"mon\": \"晴れ\", \"tue\": \"雨\", \"wed\": \"晴れ\", \"thu\": \"晴れ\", \"fri\": \"曇り\", \"sat\": \"曇りのり雨\", \"sun\": \"雷雨\"}\n",
    "print(list[2])\n",
    "print(dictionary[\"wed\"])"
   ]
  },
  {
   "cell_type": "code",
   "execution_count": null,
   "id": "1873f9dc-f13f-4016-a1bb-9ad3c9304c54",
   "metadata": {},
   "outputs": [],
   "source": []
  }
 ],
 "metadata": {
  "kernelspec": {
   "display_name": "Python 3 (ipykernel)",
   "language": "python",
   "name": "python3"
  },
  "language_info": {
   "codemirror_mode": {
    "name": "ipython",
    "version": 3
   },
   "file_extension": ".py",
   "mimetype": "text/x-python",
   "name": "python",
   "nbconvert_exporter": "python",
   "pygments_lexer": "ipython3",
   "version": "3.11.5"
  }
 },
 "nbformat": 4,
 "nbformat_minor": 5
}
