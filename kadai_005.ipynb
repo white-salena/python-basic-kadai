{
 "cells": [
  {
   "cell_type": "code",
   "execution_count": 1,
   "id": "79098727-a5ef-4ab0-9386-85194a255e98",
   "metadata": {},
   "outputs": [
    {
     "name": "stdout",
     "output_type": "stream",
     "text": [
      "150㎠\n"
     ]
    }
   ],
   "source": [
    "top_side=10\n",
    "bottom_side=20\n",
    "height=5\n",
    "result=(top_side + bottom_side) * height\n",
    "\n",
    "print(str(result) + \"㎠\")"
   ]
  },
  {
   "cell_type": "code",
   "execution_count": null,
   "id": "b838004f-27b5-45c2-9f64-4185652a06cb",
   "metadata": {},
   "outputs": [],
   "source": []
  }
 ],
 "metadata": {
  "kernelspec": {
   "display_name": "Python 3 (ipykernel)",
   "language": "python",
   "name": "python3"
  },
  "language_info": {
   "codemirror_mode": {
    "name": "ipython",
    "version": 3
   },
   "file_extension": ".py",
   "mimetype": "text/x-python",
   "name": "python",
   "nbconvert_exporter": "python",
   "pygments_lexer": "ipython3",
   "version": "3.11.5"
  }
 },
 "nbformat": 4,
 "nbformat_minor": 5
}
