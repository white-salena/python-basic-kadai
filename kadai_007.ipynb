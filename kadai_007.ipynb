{
 "cells": [
  {
   "cell_type": "code",
   "execution_count": 1,
   "id": "f4098e83-3bd2-4b94-8418-a19992726e50",
   "metadata": {},
   "outputs": [
    {
     "name": "stdout",
     "output_type": "stream",
     "text": [
      "水曜日は晴れです\n",
      "晴れ\n"
     ]
    }
   ],
   "source": [
    "list=[\"月曜日は晴れです\", \"火曜日は雨です\", \"水曜日は晴れです\", \"木曜日は晴れです\", \"金曜日は曇りです\", \"土曜日は曇りのち雨です\", \"日曜日は雷雨です\"]\n",
    "dictionary={\"mon\": \"晴れ\", \"tue\": \"雨\", \"wed\": \"晴れ\", \"thu\": \"晴れ\", \"fri\": \"曇り\", \"sat\": \"曇りのり雨\", \"sun\": \"雷雨\"}\n",
    "print(list[2])\n",
    "print(dictionary[\"wed\"])"
   ]
  },
  {
   "cell_type": "code",
   "execution_count": null,
   "id": "f7734a40-d6dc-4513-b580-a3584ac964fb",
   "metadata": {},
   "outputs": [],
   "source": []
  }
 ],
 "metadata": {
  "kernelspec": {
   "display_name": "Python 3 (ipykernel)",
   "language": "python",
   "name": "python3"
  },
  "language_info": {
   "codemirror_mode": {
    "name": "ipython",
    "version": 3
   },
   "file_extension": ".py",
   "mimetype": "text/x-python",
   "name": "python",
   "nbconvert_exporter": "python",
   "pygments_lexer": "ipython3",
   "version": "3.11.5"
  }
 },
 "nbformat": 4,
 "nbformat_minor": 5
}
