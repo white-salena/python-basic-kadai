{
 "cells": [
  {
   "cell_type": "code",
   "execution_count": 2,
   "id": "db815cdb-a8eb-4821-b9ee-4870f6db4839",
   "metadata": {},
   "outputs": [
    {
     "name": "stdout",
     "output_type": "stream",
     "text": [
      "A子さんは大人です。\n",
      "B美さんは大人です。\n",
      "C奈さんは未成年です。\n"
     ]
    }
   ],
   "source": [
    "class Human:\n",
    "    def __init__(self, name, age):\n",
    "        self.name = name\n",
    "        self.age = age\n",
    "\n",
    "    def chk_adult(self):\n",
    "        if self.age >= 20:\n",
    "            print(f\"{self.name}さんは大人です。\")\n",
    "        else:\n",
    "            print(f\"{self.name}さんは未成年です。\")\n",
    "\n",
    "datas = [[\"A子\", 20],\n",
    "         [\"B美\", 39],\n",
    "         [\"C奈\", 16]]\n",
    "\n",
    "humans = []\n",
    "for data in datas:\n",
    "    humans.append((data[0], data[1]))\n",
    "\n",
    "for human in humans:\n",
    "    Human(human[0], human[1]).chk_adult()"
   ]
  },
  {
   "cell_type": "code",
   "execution_count": null,
   "id": "8e961834-55d2-46c3-916c-3883bd5e8791",
   "metadata": {},
   "outputs": [],
   "source": []
  }
 ],
 "metadata": {
  "kernelspec": {
   "display_name": "Python 3 (ipykernel)",
   "language": "python",
   "name": "python3"
  },
  "language_info": {
   "codemirror_mode": {
    "name": "ipython",
    "version": 3
   },
   "file_extension": ".py",
   "mimetype": "text/x-python",
   "name": "python",
   "nbconvert_exporter": "python",
   "pygments_lexer": "ipython3",
   "version": "3.11.5"
  }
 },
 "nbformat": 4,
 "nbformat_minor": 5
}
